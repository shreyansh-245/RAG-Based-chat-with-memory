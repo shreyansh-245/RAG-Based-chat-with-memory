{
 "cells": [
  {
   "cell_type": "code",
   "execution_count": 1,
   "metadata": {},
   "outputs": [],
   "source": [
    "# import Libraries\n",
    "\n",
    "import openai\n",
    "import langchain\n",
    "import pinecone \n",
    "from langchain.document_loaders import PyPDFDirectoryLoader\n",
    "from langchain.text_splitter import RecursiveCharacterTextSplitter\n",
    "from langchain.embeddings.openai import OpenAIEmbeddings\n",
    "#from langchain.vectorstores import Pinecone\n",
    "from langchain.llms import OpenAI\n",
    "import os"
   ]
  },
  {
   "cell_type": "code",
   "execution_count": 2,
   "metadata": {},
   "outputs": [
    {
     "data": {
      "text/plain": [
       "True"
      ]
     },
     "execution_count": 2,
     "metadata": {},
     "output_type": "execute_result"
    }
   ],
   "source": [
    "from dotenv import load_dotenv\n",
    "load_dotenv()"
   ]
  },
  {
   "cell_type": "code",
   "execution_count": 3,
   "metadata": {},
   "outputs": [],
   "source": [
    "from secret_key import my_pinecone_key\n",
    "\n",
    "# Securely set up environment variables for API keys (This should be done outside of your script, in your environment)\n",
    "os.environ['OPENAI_API_KEY'] = my_pinecone_key"
   ]
  },
  {
   "cell_type": "code",
   "execution_count": 5,
   "metadata": {},
   "outputs": [],
   "source": [
    "## Lets Read the document\n",
    "def read_doc(directory):\n",
    "    file_loader=PyPDFDirectoryLoader(directory)\n",
    "    documents=file_loader.load()\n",
    "    return documents"
   ]
  },
  {
   "cell_type": "code",
   "execution_count": 6,
   "metadata": {},
   "outputs": [],
   "source": [
    "#!pip install pypdf"
   ]
  },
  {
   "cell_type": "code",
   "execution_count": 7,
   "metadata": {},
   "outputs": [
    {
     "name": "stdout",
     "output_type": "stream",
     "text": [
      "/Users/ritikaverma/Desktop/internship/Athina\r\n"
     ]
    }
   ],
   "source": [
    "!pwd"
   ]
  },
  {
   "cell_type": "code",
   "execution_count": 8,
   "metadata": {},
   "outputs": [
    {
     "data": {
      "text/plain": [
       "44"
      ]
     },
     "execution_count": 8,
     "metadata": {},
     "output_type": "execute_result"
    }
   ],
   "source": [
    "doc=read_doc('Doc/')\n",
    "len(doc)"
   ]
  },
  {
   "cell_type": "code",
   "execution_count": 9,
   "metadata": {},
   "outputs": [],
   "source": [
    "## Divide the docs into chunks\n",
    "### https://api.python.langchain.com/en/latest/text_splitter/langchain.text_splitter.RecursiveCharacterTextSplitter.html#\n",
    "def chunk_data(docs,chunk_size=100,chunk_overlap=10):\n",
    "    text_splitter=RecursiveCharacterTextSplitter(chunk_size=chunk_size,chunk_overlap=chunk_overlap)\n",
    "    doc=text_splitter.split_documents(docs)\n",
    "    return docs"
   ]
  },
  {
   "cell_type": "code",
   "execution_count": 10,
   "metadata": {},
   "outputs": [
    {
     "data": {
      "text/plain": [
       "44"
      ]
     },
     "execution_count": 10,
     "metadata": {},
     "output_type": "execute_result"
    }
   ],
   "source": [
    "documents=chunk_data(docs=doc)\n",
    "len(documents)"
   ]
  },
  {
   "cell_type": "code",
   "execution_count": 11,
   "metadata": {},
   "outputs": [
    {
     "data": {
      "text/plain": [
       "OpenAIEmbeddings(client=<openai.resources.embeddings.Embeddings object at 0x112425290>, async_client=<openai.resources.embeddings.AsyncEmbeddings object at 0x1124350d0>, model='text-embedding-ada-002', dimensions=None, deployment='text-embedding-ada-002', openai_api_version='', openai_api_base=None, openai_api_type='', openai_proxy='', embedding_ctx_length=8191, openai_api_key=SecretStr('**********'), openai_organization=None, allowed_special=None, disallowed_special=None, chunk_size=1000, max_retries=2, request_timeout=None, headers=None, tiktoken_enabled=True, tiktoken_model_name=None, show_progress_bar=False, model_kwargs={}, skip_empty=False, default_headers=None, default_query=None, retry_min_seconds=4, retry_max_seconds=20, http_client=None, http_async_client=None, check_embedding_ctx_length=True)"
      ]
     },
     "execution_count": 11,
     "metadata": {},
     "output_type": "execute_result"
    }
   ],
   "source": [
    "## Embedding Technique Of OPENAI\n",
    "from langchain_openai import OpenAIEmbeddings\n",
    "\n",
    "embeddings=OpenAIEmbeddings(api_key=os.environ['OPENAI_API_KEY'])\n",
    "embeddings"
   ]
  },
  {
   "cell_type": "code",
   "execution_count": 12,
   "metadata": {},
   "outputs": [
    {
     "data": {
      "text/plain": [
       "1536"
      ]
     },
     "execution_count": 12,
     "metadata": {},
     "output_type": "execute_result"
    }
   ],
   "source": [
    "vectors=embeddings.embed_query(\"How are you?\")\n",
    "len(vectors)"
   ]
  },
  {
   "cell_type": "code",
   "execution_count": 13,
   "metadata": {},
   "outputs": [
    {
     "name": "stdout",
     "output_type": "stream",
     "text": [
      "Collecting pinecone-client\n",
      "  Downloading pinecone_client-4.1.1-py3-none-any.whl.metadata (16 kB)\n",
      "Requirement already satisfied: certifi>=2019.11.17 in /Applications/anaconda3/lib/python3.11/site-packages (from pinecone-client) (2024.2.2)\n",
      "Collecting pinecone-plugin-interface<0.0.8,>=0.0.7 (from pinecone-client)\n",
      "  Downloading pinecone_plugin_interface-0.0.7-py3-none-any.whl.metadata (1.2 kB)\n",
      "Requirement already satisfied: tqdm>=4.64.1 in /Applications/anaconda3/lib/python3.11/site-packages (from pinecone-client) (4.66.4)\n",
      "Requirement already satisfied: typing-extensions>=3.7.4 in /Applications/anaconda3/lib/python3.11/site-packages (from pinecone-client) (4.9.0)\n",
      "Requirement already satisfied: urllib3>=1.26.0 in /Applications/anaconda3/lib/python3.11/site-packages (from pinecone-client) (2.0.7)\n",
      "Downloading pinecone_client-4.1.1-py3-none-any.whl (216 kB)\n",
      "\u001b[2K   \u001b[90m━━━━━━━━━━━━━━━━━━━━━━━━━━━━━━━━━━━━━━━━\u001b[0m \u001b[32m216.2/216.2 kB\u001b[0m \u001b[31m3.8 MB/s\u001b[0m eta \u001b[36m0:00:00\u001b[0ma \u001b[36m0:00:01\u001b[0m\n",
      "\u001b[?25hDownloading pinecone_plugin_interface-0.0.7-py3-none-any.whl (6.2 kB)\n",
      "Installing collected packages: pinecone-plugin-interface, pinecone-client\n",
      "Successfully installed pinecone-client-4.1.1 pinecone-plugin-interface-0.0.7\n"
     ]
    }
   ],
   "source": [
    "!pip install --upgrade pinecone-client"
   ]
  },
  {
   "cell_type": "code",
   "execution_count": null,
   "metadata": {},
   "outputs": [],
   "source": []
  },
  {
   "cell_type": "code",
   "execution_count": 14,
   "metadata": {},
   "outputs": [],
   "source": [
    "import os\n",
    "from pinecone import Pinecone, ServerlessSpec\n",
    "    \n",
    "pc = Pinecone(api_key = my_pinecone_key)\n",
    "    \n",
    "    \n",
    "    \n",
    "    \n",
    "\n",
    "# Now do stuff\n",
    "if 'athina' not in pc.list_indexes().names():\n",
    "    pc.create_index(\n",
    "        name='athina', \n",
    "        dimension=1536, \n",
    "        metric='euclidean',\n",
    "        spec=ServerlessSpec(\n",
    "            cloud='aws',\n",
    "            region='us-east-1'\n",
    "        )\n",
    "    )"
   ]
  },
  {
   "cell_type": "code",
   "execution_count": 15,
   "metadata": {},
   "outputs": [],
   "source": [
    "#!pip install -U langchain-pinecone"
   ]
  },
  {
   "cell_type": "code",
   "execution_count": 17,
   "metadata": {},
   "outputs": [],
   "source": [
    "#from langchain_pinecone import PineconeVectorStore\n",
    "\n",
    "#index_name = \"lang\"\n",
    "\n",
    "#index = PineconeVectorStore.from_documents(doc, embeddings, index_name=index_name)"
   ]
  },
  {
   "cell_type": "code",
   "execution_count": 18,
   "metadata": {},
   "outputs": [],
   "source": [
    "from langchain_pinecone import Pinecone\n",
    "\n",
    "index=Pinecone.from_documents(doc,embeddings,index_name='athina')"
   ]
  },
  {
   "cell_type": "code",
   "execution_count": 1,
   "metadata": {},
   "outputs": [],
   "source": [
    "## Cosine Similarity Retreive Results from VectorDB\n",
    "def retrieve_query(query,k=5):\n",
    "    matching_results=index.similarity_search(query,k=k)\n",
    "    return matching_results"
   ]
  },
  {
   "cell_type": "code",
   "execution_count": 2,
   "metadata": {},
   "outputs": [],
   "source": [
    "from langchain.chains.question_answering import load_qa_chain\n",
    "from langchain import OpenAI"
   ]
  },
  {
   "cell_type": "code",
   "execution_count": 21,
   "metadata": {},
   "outputs": [
    {
     "name": "stderr",
     "output_type": "stream",
     "text": [
      "/Users/ritikaverma/anaconda3/lib/python3.11/site-packages/langchain_core/_api/deprecation.py:119: LangChainDeprecationWarning: The class `OpenAI` was deprecated in LangChain 0.0.10 and will be removed in 0.2.0. An updated version of the class exists in the langchain-openai package and should be used instead. To use it run `pip install -U langchain-openai` and import as `from langchain_openai import OpenAI`.\n",
      "  warn_deprecated(\n"
     ]
    }
   ],
   "source": [
    "llm=OpenAI(model_name=\"gpt-3.5-turbo-instruct\",temperature=0)\n",
    "chain=load_qa_chain(llm,chain_type=\"stuff\")"
   ]
  },
  {
   "cell_type": "code",
   "execution_count": 22,
   "metadata": {},
   "outputs": [],
   "source": [
    "## Search answers from VectorDB\n",
    "def retrieve_answers(query):\n",
    "    doc_search=retrieve_query(query)\n",
    "    print(doc_search)\n",
    "    response=chain.run(input_documents=doc_search,question=query)\n",
    "    return response"
   ]
  },
  {
   "cell_type": "code",
   "execution_count": 36,
   "metadata": {},
   "outputs": [
    {
     "name": "stdout",
     "output_type": "stream",
     "text": [
      "[Document(page_content='Page 41Everything else\\nEverything else\\nOur contract with you\\nWe aim to always be fair and reasonable and to \\nact quickly whenever you need to make a claim under this policy. If you feel we haven’t met this, \\nwe’ll try to do everything possible to deal with your complaint quickly and fairly.\\nThis policy is evidence of the contract between \\nyou and us, U K Insurance Limited, and is based \\non information you’ve given to us.\\nIn return for receiving and accepting the \\npremium, we’ll provide insurance under this policy for the sections shown on your car \\ninsurance details. \\nThe laws that apply to this contract You and we \\nmay choose which law will apply to this policy. \\nUnless both parties agree otherwise, English law will apply. However, if you are resident in Jersey, Guernsey, Alderney or the Isle of Man, the law of the island where you are resident will always apply to your policy and any dispute in relation to it will be within the jurisdiction of that island’s relevant court. We’ve supplied this policy and other information to you in English and we’ll continue to communicate with you in English.\\nGiving you a recommendation We have not \\ngiven you a personal recommendation as to \\nwhether this policy is suitable for your specific \\nneeds. Just to let you know, our consultants may\\nreceive a bonus if you purchase any cover with us.\\nOur regulator\\nU K Insurance Limited is authorised by the \\nPrudential Regulation Authority and regulated by the Financial Conduct Authority and the Prudential Regulation Authority under registration number 202810. The Financial Conduct Authority website, which includes a register of all regulated firms, can be visited at www.fca.org.uk, or the Financial Conduct Authority can be contacted on 0800 111 6768.\\nFinancial Services Compensation Scheme\\nGeneral insurance claims are covered by the \\nFinancial Services Compensation Scheme. Full details of the cover available can be found at www.fscs.org.uk. U K Insurance Limited is a member of this scheme.The Motor Insurance Database\\nInformation relating to your policy will be \\nadded to the Motor Insurance Database (MID) managed by the Motor Insurers’ Bureau (MIB). The MID and the data stored on it may be used by certain statutory and/or authorised bodies including the police, the DVLA, the DVANI, the Insurance Fraud Bureau and other bodies permitted by law for purposes not limited to but including: \\n>Electronic Licensing (Tax Discs). \\n>Continuous Insurance Enforcement. \\n>Law enforcement (prevention, detection, \\napprehension and/or prosecution of offenders).\\n>The provision of government services and/or other services aimed at reducing the level and incidence of uninsured driving. \\nIf you are involved in a road traffic accident (either in the UK, the EEA or certain other territories), insurers and/or the MIB may search the MID to obtain relevant information. Persons (including his or her appointed representatives) pursuing a claim in respect of a road traffic accident (including citizens of other countries) may also obtain relevant information which is held on the MID. It is vital that the MID holds your correct registration number. It is our responsibility to update your policy to the MID. We fully comply with the agreements in place with the MIB to update your details within seven days; however, it is important that you check your policy documents ensuring that the registration number is recorded correctly. If it is incorrectly shown on the MID, you are at risk of having your car seized by the police. You can check that your correct registration number is shown on the MID at www.askMID.com. If the registration number is not shown correctly on your policy documents, or you cannot find your car on the MID, please contact us immediately. ', metadata={'page': 40.0, 'source': 'Doc/policy-booklet-0923.pdf'}), Document(page_content='Page 2FAQs  3\\nGlossary  4\\nMaking a claim  6\\nWhat your cover includes  8\\nSection 1: Liability  11\\nSection 2: Fire and theft  14\\nSection 3: Courtesy car  17\\nSection 4: Accidental damage  18\\nSection 5: Windscreen damage  20\\nSection 6: Personal benefits  21\\nSection 7: Motor Legal Cover  23\\nSection 8: Guaranteed Hire Car Plus  28\\nSection 9: Protected No Claim Discount  30Where you can drive  31\\nLosses we don’t cover  33\\nOther conditions you need to know about  36\\nHow the policy works  37\\nEverything else  41\\nIf you have a complaint  42\\nIf you’re in an accident  43\\nHow to get in touch  Back coverContentsWelcome to Churchill\\nThis booklet tells you about your car insurance\\nAbout the policy\\nThe policy is made up of:\\n >This booklet.\\n >Your car insurance details.\\n >Your certificate (or certificates)  \\nof motor insurance.\\nIf the policy includes Green Flag breakdown cover:\\n >Your breakdown cover and your car \\ninsurance are part of the same policy.\\n >The policy also includes the Green Flag \\npolicy booklet we’ve given you.\\nIf you have a policy that includes DriveSure:\\n >The policy also includes the DriveSure terms \\nand conditions we’ve given you.\\nPlease read all these documents carefully  and keep them safe in case you need them.Words in bold type\\nSome of the words and phrases we use in \\nthis booklet have a specific meaning – for example, your car or modifications.\\nWe’ve highlighted these words using bold type. You can find the exact meanings of  these words in the ‘Glossary’ on page 4,  or at the start of each section.\\nComprehensive with DriveSure\\nIf you have a Comprehensive with  \\nDriveSure policy: \\n >Your cover is the same as a  Comprehensive policy. \\n >Wherever Comprehensive is  mentioned in this policy booklet,  this also applies to you.', metadata={'page': 1.0, 'source': 'Doc/policy-booklet-0923.pdf'})]\n",
      " The document talks about a car insurance policy and its terms and conditions. It also includes information about the company providing the insurance, the laws that apply to the policy, and how to make a claim or complaint.\n"
     ]
    }
   ],
   "source": [
    "our_query = \"What does the document talk about?\"\n",
    "answer = retrieve_answers(our_query)\n",
    "print(answer)"
   ]
  },
  {
   "cell_type": "code",
   "execution_count": 37,
   "metadata": {},
   "outputs": [
    {
     "name": "stdout",
     "output_type": "stream",
     "text": [
      "[Document(page_content='Page 2FAQs  3\\nGlossary  4\\nMaking a claim  6\\nWhat your cover includes  8\\nSection 1: Liability  11\\nSection 2: Fire and theft  14\\nSection 3: Courtesy car  17\\nSection 4: Accidental damage  18\\nSection 5: Windscreen damage  20\\nSection 6: Personal benefits  21\\nSection 7: Motor Legal Cover  23\\nSection 8: Guaranteed Hire Car Plus  28\\nSection 9: Protected No Claim Discount  30Where you can drive  31\\nLosses we don’t cover  33\\nOther conditions you need to know about  36\\nHow the policy works  37\\nEverything else  41\\nIf you have a complaint  42\\nIf you’re in an accident  43\\nHow to get in touch  Back coverContentsWelcome to Churchill\\nThis booklet tells you about your car insurance\\nAbout the policy\\nThe policy is made up of:\\n >This booklet.\\n >Your car insurance details.\\n >Your certificate (or certificates)  \\nof motor insurance.\\nIf the policy includes Green Flag breakdown cover:\\n >Your breakdown cover and your car \\ninsurance are part of the same policy.\\n >The policy also includes the Green Flag \\npolicy booklet we’ve given you.\\nIf you have a policy that includes DriveSure:\\n >The policy also includes the DriveSure terms \\nand conditions we’ve given you.\\nPlease read all these documents carefully  and keep them safe in case you need them.Words in bold type\\nSome of the words and phrases we use in \\nthis booklet have a specific meaning – for example, your car or modifications.\\nWe’ve highlighted these words using bold type. You can find the exact meanings of  these words in the ‘Glossary’ on page 4,  or at the start of each section.\\nComprehensive with DriveSure\\nIf you have a Comprehensive with  \\nDriveSure policy: \\n >Your cover is the same as a  Comprehensive policy. \\n >Wherever Comprehensive is  mentioned in this policy booklet,  this also applies to you.', metadata={'page': 1.0, 'source': 'Doc/policy-booklet-0923.pdf'}), Document(page_content='Your car insurance \\npolicy booklet\\n', metadata={'page': 0.0, 'source': 'Doc/policy-booklet-0923.pdf'})]\n",
      " \n",
      "- This document is a car insurance policy booklet from Churchill.\n",
      "- It includes information about the policy, such as what is included and what is not covered.\n",
      "- The policy is made up of the booklet, car insurance details, and a certificate of motor insurance.\n",
      "- If the policy includes Green Flag breakdown cover, the breakdown cover and car insurance are part of the same policy.\n",
      "- If the policy includes DriveSure, it also includes the DriveSure terms and conditions.\n",
      "- Some words and phrases in the booklet have specific meanings, which can be found in the glossary or at the start of each section.\n",
      "- If you have a Comprehensive with DriveSure policy, your cover is the same as a Comprehensive policy.\n"
     ]
    }
   ],
   "source": [
    "our_query = \"Please summarize this documents and do it in bullets.\"\n",
    "answer = retrieve_answers(our_query)\n",
    "print(answer)"
   ]
  },
  {
   "cell_type": "code",
   "execution_count": 23,
   "metadata": {},
   "outputs": [
    {
     "name": "stdout",
     "output_type": "stream",
     "text": [
      "[Document(page_content='Page 14You’re not covered under this \\nsub-section for\\n8We won’t cover any loss, damage or injury:\\n• That takes place outside of Great Britain. • Caused by your automated car driving \\nitself at any time or place that the use of \\nautomated functions is unlawful. \\n• To the extent that an accident was caused \\nor contributed to by any party suffering loss, damage or injury. \\n• To an insured person if the accident is \\ncaused by a failure to install safety critical updates to your automated car or its \\nsoftware has been altered without the approval of the manufacturer. We may also require an insured person to repay us \\nany amounts that we are required by law to pay. \\n• To the person in charge of your automated \\ncar where the accident was wholly due to that person’s negligence in allowing your automated car to begin driving itself when it was not appropriate to do so. \\n• To property which an insured person owns \\nor is responsible for.\\n• That’s covered by another insurance \\npolicy.\\n• That’s due to an act of terrorism as defined \\nby the terrorism legislation applicable where the incident took place. \\n• To your automated car or trailer.\\n• To goods carried for hire or reward.\\n8We won’t cover legal costs or expenses.\\nYou may be covered for some of these exclusions under other sections of your policy – please check your policy carefully. If you have any questions, please get in touch.Fire and theft\\nWe’ll put things right if your car is stolen, damaged by an attempted theft, or damaged by fire.\\nIf you’re on:\\nThird Party, Fire and Theft\\nEssentials\\nComprehensive\\nComprehensive Plus\\nthe cover in this section depends on the type of insurance you have.\\nCover for your car\\nIncluded with:\\nTPFT Essential Comp Comp+\\nIf your car is:\\n>Stolen.\\n>Damaged as a result of theft or attempted \\ntheft.\\n>Damaged by fire, lightning or an explosion.\\nWe can choose to: \\n>Repair – we’ll repair the damage ourselves, or \\npay to repair it.\\n>Replace – we’ll replace whatever is lost or damaged if that’s more cost-effective than repairing.\\n>Repay – we’ll settle your claim by sending a payment.\\nChild car seats\\nIncluded with:\\nTPFT Essential Comp Comp+\\nIf you have a child car seat fitted to your car\\nand your car is damaged by fire or theft, \\nor stolen and not recovered, we’ll arrange a replacement, or cover you for the cost of replacing the child car seat with a new one of a similar standard, even if there is no apparent damage. You may be required to provide proof of ownership as part of the claim.Section 1: Liability continued\\nSection 2: Fire and theft', metadata={'page': 13.0, 'source': 'Doc/policy-booklet-0923.pdf'}), Document(page_content='Page 14You’re not covered under this \\nsub-section for\\n8We won’t cover any loss, damage or injury:\\n• That takes place outside of Great Britain. • Caused by your automated car driving \\nitself at any time or place that the use of \\nautomated functions is unlawful. \\n• To the extent that an accident was caused \\nor contributed to by any party suffering loss, damage or injury. \\n• To an insured person if the accident is \\ncaused by a failure to install safety critical updates to your automated car or its \\nsoftware has been altered without the approval of the manufacturer. We may also require an insured person to repay us \\nany amounts that we are required by law to pay. \\n• To the person in charge of your automated \\ncar where the accident was wholly due to that person’s negligence in allowing your automated car to begin driving itself when it was not appropriate to do so. \\n• To property which an insured person owns \\nor is responsible for.\\n• That’s covered by another insurance \\npolicy.\\n• That’s due to an act of terrorism as defined \\nby the terrorism legislation applicable where the incident took place. \\n• To your automated car or trailer.\\n• To goods carried for hire or reward.\\n8We won’t cover legal costs or expenses.\\nYou may be covered for some of these exclusions under other sections of your policy – please check your policy carefully. If you have any questions, please get in touch.Fire and theft\\nWe’ll put things right if your car is stolen, damaged by an attempted theft, or damaged by fire.\\nIf you’re on:\\nThird Party, Fire and Theft\\nEssentials\\nComprehensive\\nComprehensive Plus\\nthe cover in this section depends on the type of insurance you have.\\nCover for your car\\nIncluded with:\\nTPFT Essential Comp Comp+\\nIf your car is:\\n>Stolen.\\n>Damaged as a result of theft or attempted \\ntheft.\\n>Damaged by fire, lightning or an explosion.\\nWe can choose to: \\n>Repair – we’ll repair the damage ourselves, or \\npay to repair it.\\n>Replace – we’ll replace whatever is lost or damaged if that’s more cost-effective than repairing.\\n>Repay – we’ll settle your claim by sending a payment.\\nChild car seats\\nIncluded with:\\nTPFT Essential Comp Comp+\\nIf you have a child car seat fitted to your car\\nand your car is damaged by fire or theft, \\nor stolen and not recovered, we’ll arrange a replacement, or cover you for the cost of replacing the child car seat with a new one of a similar standard, even if there is no apparent damage. You may be required to provide proof of ownership as part of the claim.Section 1: Liability continued\\nSection 2: Fire and theft', metadata={'page': 13.0, 'source': 'Doc/policy-booklet-0923.pdf'})]\n"
     ]
    },
    {
     "name": "stderr",
     "output_type": "stream",
     "text": [
      "/Users/ritikaverma/anaconda3/lib/python3.11/site-packages/langchain_core/_api/deprecation.py:119: LangChainDeprecationWarning: The method `Chain.run` was deprecated in langchain 0.1.0 and will be removed in 0.2.0. Use invoke instead.\n",
      "  warn_deprecated(\n"
     ]
    },
    {
     "name": "stdout",
     "output_type": "stream",
     "text": [
      " The policy covers damage to your car caused by fire, lightning, or an explosion. The insurance company can choose to repair, replace, or repay for the damage.\n"
     ]
    }
   ],
   "source": [
    "our_query = \"What is the policy on fire damage?\"\n",
    "answer = retrieve_answers(our_query)\n",
    "print(answer)"
   ]
  },
  {
   "cell_type": "code",
   "execution_count": 24,
   "metadata": {},
   "outputs": [
    {
     "name": "stdout",
     "output_type": "stream",
     "text": [
      "[Document(page_content='Your car insurance \\npolicy booklet\\n', metadata={'page': 0.0, 'source': 'Doc/policy-booklet-0923.pdf'}), Document(page_content='Your car insurance \\npolicy booklet\\n', metadata={'page': 0.0, 'source': 'Doc/policy-booklet-0923.pdf'})]\n",
      " I don't know, as I don't have access to the specific policy booklet. It would be best to refer to the booklet for further details on coverage for fire damage.\n"
     ]
    }
   ],
   "source": [
    "our_query = \"Give me further details on policy for fire damage?\"\n",
    "answer = retrieve_answers(our_query)\n",
    "print(answer)"
   ]
  },
  {
   "cell_type": "code",
   "execution_count": null,
   "metadata": {},
   "outputs": [],
   "source": []
  }
 ],
 "metadata": {
  "kernelspec": {
   "display_name": "Python 3 (ipykernel)",
   "language": "python",
   "name": "python3"
  },
  "language_info": {
   "codemirror_mode": {
    "name": "ipython",
    "version": 3
   },
   "file_extension": ".py",
   "mimetype": "text/x-python",
   "name": "python",
   "nbconvert_exporter": "python",
   "pygments_lexer": "ipython3",
   "version": "3.11.5"
  }
 },
 "nbformat": 4,
 "nbformat_minor": 2
}
